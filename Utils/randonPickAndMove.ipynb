{
 "cells": [
  {
   "cell_type": "code",
   "execution_count": 1,
   "id": "84181252-88f2-4026-99e9-e3a90f11aec7",
   "metadata": {},
   "outputs": [],
   "source": [
    "## randomly pick files from trainA/ \n",
    "## and move them to testA/\n",
    "\n",
    "import os, random, shutil"
   ]
  },
  {
   "cell_type": "code",
   "execution_count": 13,
   "id": "f7cfe79d-5942-45ac-9ac5-8d315ff8d418",
   "metadata": {},
   "outputs": [],
   "source": [
    "fileDir = \"UGATIT/dataset/7-UGATIT-asian/trainA/\"\n",
    "tarDir = \"UGATIT/dataset/7-UGATIT-asian/testA/\"\n",
    "pathDir = os.listdir(fileDir)\n",
    "filenum = len(pathDir) # 59344\n",
    "rate=0.02\n",
    "picknum=int(filenum*rate)\n",
    "picknum # 1186\n",
    "sample = random.sample(pathDir, picknum)\n",
    "# print (sample)\n",
    "for name in sample:\n",
    "    shutil.move(fileDir+name, tarDir+name)"
   ]
  },
  {
   "cell_type": "code",
   "execution_count": 14,
   "id": "e5d97d7f-e678-4e1f-becd-e823d5c93f3b",
   "metadata": {},
   "outputs": [
    {
     "data": {
      "text/plain": [
       "2349"
      ]
     },
     "execution_count": 14,
     "metadata": {},
     "output_type": "execute_result"
    }
   ],
   "source": [
    "# re-check\n",
    "testDir = os.listdir(tarDir)\n",
    "testfilenum = len(testDir)\n",
    "testfilenum"
   ]
  },
  {
   "cell_type": "code",
   "execution_count": null,
   "id": "dfa8ad24-e7e1-480a-b9b0-76fc95b4baf5",
   "metadata": {},
   "outputs": [],
   "source": []
  }
 ],
 "metadata": {
  "kernelspec": {
   "display_name": "Python 3",
   "language": "python",
   "name": "python3"
  },
  "language_info": {
   "codemirror_mode": {
    "name": "ipython",
    "version": 3
   },
   "file_extension": ".py",
   "mimetype": "text/x-python",
   "name": "python",
   "nbconvert_exporter": "python",
   "pygments_lexer": "ipython3",
   "version": "3.6.9"
  }
 },
 "nbformat": 4,
 "nbformat_minor": 5
}
